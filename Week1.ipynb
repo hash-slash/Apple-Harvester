{
 "cells": [
  {
   "cell_type": "code",
   "execution_count": 1,
   "metadata": {},
   "outputs": [
    {
     "name": "stdout",
     "output_type": "stream",
     "text": [
      "Requirement already satisfied: opencv-python in c:\\users\\ashsa\\anaconda3\\lib\\site-packages (4.8.0.76)\n",
      "Requirement already satisfied: numpy>=1.21.2 in c:\\users\\ashsa\\anaconda3\\lib\\site-packages (from opencv-python) (1.24.3)\n",
      "Note: you may need to restart the kernel to use updated packages.\n"
     ]
    },
    {
     "name": "stderr",
     "output_type": "stream",
     "text": [
      "WARNING: There was an error checking the latest version of pip.\n"
     ]
    }
   ],
   "source": [
    "%pip install opencv-python"
   ]
  },
  {
   "cell_type": "code",
   "execution_count": 3,
   "metadata": {},
   "outputs": [],
   "source": [
    "import numpy as np\n",
    "import numpy.core.multiarray\n",
    "import cv2\n",
    "import os\n",
    "import time\n",
    "#import matplotlib.pyplot as plt"
   ]
  },
  {
   "cell_type": "code",
   "execution_count": 3,
   "metadata": {},
   "outputs": [
    {
     "data": {
      "text/plain": [
       "array([[[ 13, 179, 104],\n",
       "        [ 13, 186, 100],\n",
       "        [ 13, 197,  97],\n",
       "        ...,\n",
       "        [110,  18, 255],\n",
       "        [110,  18, 255],\n",
       "        [110,  18, 255]],\n",
       "\n",
       "       [[ 13, 174, 110],\n",
       "        [ 13, 180, 106],\n",
       "        [ 13, 188, 102],\n",
       "        ...,\n",
       "        [110,  18, 255],\n",
       "        [110,  18, 255],\n",
       "        [110,  18, 255]],\n",
       "\n",
       "       [[ 13, 174, 116],\n",
       "        [ 12, 174, 113],\n",
       "        [ 12, 182, 108],\n",
       "        ...,\n",
       "        [110,  18, 255],\n",
       "        [110,  18, 255],\n",
       "        [110,  18, 255]],\n",
       "\n",
       "       ...,\n",
       "\n",
       "       [[ 43, 228, 122],\n",
       "        [ 43, 217, 128],\n",
       "        [ 42, 204, 134],\n",
       "        ...,\n",
       "        [ 24,  81, 194],\n",
       "        [ 23,  80, 194],\n",
       "        [ 23,  78, 194]],\n",
       "\n",
       "       [[ 43, 217, 135],\n",
       "        [ 43, 208, 141],\n",
       "        [ 43, 193, 148],\n",
       "        ...,\n",
       "        [ 24,  82, 193],\n",
       "        [ 23,  80, 194],\n",
       "        [ 23,  78, 193]],\n",
       "\n",
       "       [[ 43, 215, 140],\n",
       "        [ 43, 202, 145],\n",
       "        [ 43, 190, 154],\n",
       "        ...,\n",
       "        [ 24,  82, 193],\n",
       "        [ 23,  78, 194],\n",
       "        [ 22,  77, 193]]], dtype=uint8)"
      ]
     },
     "execution_count": 3,
     "metadata": {},
     "output_type": "execute_result"
    }
   ],
   "source": [
    "# read image \n",
    "image = cv2.imread(\"trial.jpg\")\n",
    "\n",
    "#convert BGR to HSV \n",
    "hsv = cv2.cvtColor(image, cv2.COLOR_BGR2HSV)\n",
    "\n",
    "hsv"
   ]
  },
  {
   "cell_type": "markdown",
   "metadata": {},
   "source": [
    "Go to colorizer and select range of colors ( for now taking only red apples )"
   ]
  },
  {
   "cell_type": "code",
   "execution_count": 4,
   "metadata": {},
   "outputs": [],
   "source": [
    "upper = np.array([0,0,100])\n",
    "lower = np.array([10,255,255])"
   ]
  },
  {
   "cell_type": "code",
   "execution_count": 5,
   "metadata": {},
   "outputs": [
    {
     "data": {
      "text/plain": [
       "True"
      ]
     },
     "execution_count": 5,
     "metadata": {},
     "output_type": "execute_result"
    }
   ],
   "source": [
    "#threshold HSV images \n",
    "\n",
    "mask1 = cv2.inRange(hsv, upper, lower)\n",
    "cv2.imwrite(\"mask1.jpg\",mask1)"
   ]
  },
  {
   "cell_type": "code",
   "execution_count": 6,
   "metadata": {},
   "outputs": [],
   "source": [
    "cv2.imshow('Image', image)\n",
    "cv2.imshow('Result', mask1)\n",
    "\n",
    "cv2.waitKey(0)\n",
    "cv2.destroyAllWindows()"
   ]
  },
  {
   "cell_type": "code",
   "execution_count": 7,
   "metadata": {},
   "outputs": [
    {
     "name": "stdout",
     "output_type": "stream",
     "text": [
      "top left: (79, 200), bottom right: (249, 327)\n",
      "top-left-x,top-left-y,width_of_image,height_of_image : (79, 200, 170, 127)\n",
      "top left: (0, 1), bottom right: (795, 616)\n",
      "top-left-x,top-left-y,width_of_image,height_of_image : (0, 1, 795, 615)\n",
      "top left: (322, 37), bottom right: (195, 173)\n",
      "top-left-x,top-left-y,width_of_image,height_of_image : (322, 37, -127, 136)\n",
      "top left: (21, 570), bottom right: (21, 570)\n",
      "top-left-x,top-left-y,width_of_image,height_of_image : (21, 570, 0, 0)\n",
      "top left: (1, 621), bottom right: (793, 7)\n",
      "top-left-x,top-left-y,width_of_image,height_of_image : (1, 621, 792, -614)\n"
     ]
    },
    {
     "ename": "KeyboardInterrupt",
     "evalue": "",
     "output_type": "error",
     "traceback": [
      "\u001b[1;31m---------------------------------------------------------------------------\u001b[0m",
      "\u001b[1;31mKeyboardInterrupt\u001b[0m                         Traceback (most recent call last)",
      "Cell \u001b[1;32mIn[7], line 38\u001b[0m\n\u001b[0;32m     36\u001b[0m \u001b[38;5;28;01mwhile\u001b[39;00m \u001b[38;5;28;01mTrue\u001b[39;00m:\n\u001b[0;32m     37\u001b[0m     cv2\u001b[38;5;241m.\u001b[39mimshow(\u001b[38;5;124m'\u001b[39m\u001b[38;5;124mimage\u001b[39m\u001b[38;5;124m'\u001b[39m, boundingbox_widget\u001b[38;5;241m.\u001b[39mshow_image())\n\u001b[1;32m---> 38\u001b[0m     key \u001b[38;5;241m=\u001b[39m \u001b[43mcv2\u001b[49m\u001b[38;5;241;43m.\u001b[39;49m\u001b[43mwaitKey\u001b[49m\u001b[43m(\u001b[49m\u001b[38;5;241;43m5\u001b[39;49m\u001b[43m)\u001b[49m\n\u001b[0;32m     40\u001b[0m     \u001b[38;5;66;03m# Close program with keyboard 'q' --> bug // check\u001b[39;00m\n\u001b[0;32m     41\u001b[0m     \u001b[38;5;28;01mif\u001b[39;00m key \u001b[38;5;241m==\u001b[39m \u001b[38;5;28mord\u001b[39m(\u001b[38;5;124m'\u001b[39m\u001b[38;5;124mq\u001b[39m\u001b[38;5;124m'\u001b[39m):\n",
      "\u001b[1;31mKeyboardInterrupt\u001b[0m: "
     ]
    }
   ],
   "source": [
    "class BoundingBoxFunc(object):\n",
    "    def __init__(self):\n",
    "        self.original_image = cv2.imread('mask1.jpg')\n",
    "        self.clone = self.original_image.copy()\n",
    "\n",
    "        cv2.namedWindow('image')\n",
    "        cv2.setMouseCallback('image', self.extract_coordinates)\n",
    "\n",
    "        # Bounding box reference points\n",
    "        self.image_coordinates = []\n",
    "\n",
    "    def extract_coordinates(self, event, x, y, flags, parameters):\n",
    "        # Record starting (x,y) coordinates on left mouse button click\n",
    "        if event == cv2.EVENT_LBUTTONDOWN:\n",
    "            self.image_coordinates = [(x,y)]\n",
    "\n",
    "        # Record ending (x,y) coordintes on left mouse button release\n",
    "        elif event == cv2.EVENT_LBUTTONUP:\n",
    "            self.image_coordinates.append((x,y))\n",
    "            print('top left: {}, bottom right: {}'.format(self.image_coordinates[0], self.image_coordinates[1]))\n",
    "            print('top-left-x,top-left-y,width_of_image,height_of_image : ({}, {}, {}, {})'.format(self.image_coordinates[0][0], self.image_coordinates[0][1], self.image_coordinates[1][0] - self.image_coordinates[0][0], self.image_coordinates[1][1] - self.image_coordinates[0][1]))\n",
    "\n",
    "            # Draw rectangle \n",
    "            cv2.rectangle(self.clone, self.image_coordinates[0], self.image_coordinates[1], (36,255,12), 2)\n",
    "            cv2.imshow(\"image\", self.clone) \n",
    "\n",
    "        # Clear drawing boxes on right mouse button click\n",
    "        elif event == cv2.EVENT_RBUTTONDOWN:\n",
    "            self.clone = self.original_image.copy()\n",
    "\n",
    "    def show_image(self):  # not needed\n",
    "        return self.clone\n",
    "\n",
    "if __name__ == '__main__':\n",
    "    boundingbox_widget = BoundingBoxFunc()\n",
    "    while True:\n",
    "        cv2.imshow('image', boundingbox_widget.show_image())\n",
    "        key = cv2.waitKey(5)\n",
    "\n",
    "        # Close program with keyboard 'q' --> bug // check\n",
    "        if key == ord('q'):\n",
    "            cv2.destroyAllWindows()\n",
    "            exit(1)"
   ]
  },
  {
   "cell_type": "code",
   "execution_count": 6,
   "metadata": {},
   "outputs": [],
   "source": [
    "image = cv2.imread(\"trial.jpg\")\n",
    "gray = cv2.cvtColor(image, cv2.COLOR_BGR2GRAY)\n",
    "\n",
    "t=230\n",
    "ret, thresh = cv2.threshold(gray,t,255,cv2.THRESH_BINARY_INV)\n",
    "cv2.imshow(\"filter\",thresh)\n",
    "\n",
    "canny = cv2.Canny(thresh,0,100)\n",
    "cv2.imshow(\"canny\",canny)\n",
    "\n",
    "cnts = cv2.findContours(canny, cv2.RETR_EXTERNAL, cv2.CHAIN_APPROX_SIMPLE)[-2:]\n",
    "cnts = cnts[0] if len(cnts) == 2 else cnts[1]\n",
    "\n",
    "for c in cnts:\n",
    "    x,y,w,h = cv2.boundingRect(c)\n",
    "    \n",
    "cv2.circle(image,(x,y),10,(0,255,0),5)\n",
    "\n",
    "cv2.imshow(\"output\", image)\n",
    "cv2.waitKey()\n",
    "cv2.destroyAllWindows()"
   ]
  },
  {
   "cell_type": "code",
   "execution_count": 8,
   "metadata": {},
   "outputs": [
    {
     "name": "stdout",
     "output_type": "stream",
     "text": [
      "Note: you may need to restart the kernel to use updated packages.\n"
     ]
    },
    {
     "name": "stderr",
     "output_type": "stream",
     "text": [
      "ERROR: Could not find a version that satisfies the requirement freenect (from versions: none)\n",
      "ERROR: No matching distribution found for freenect\n",
      "WARNING: There was an error checking the latest version of pip.\n"
     ]
    }
   ],
   "source": [
    "%pip install freenect\n"
   ]
  }
 ],
 "metadata": {
  "kernelspec": {
   "display_name": "Python 3",
   "language": "python",
   "name": "python3"
  },
  "language_info": {
   "codemirror_mode": {
    "name": "ipython",
    "version": 3
   },
   "file_extension": ".py",
   "mimetype": "text/x-python",
   "name": "python",
   "nbconvert_exporter": "python",
   "pygments_lexer": "ipython3",
   "version": "3.10.12"
  },
  "orig_nbformat": 4
 },
 "nbformat": 4,
 "nbformat_minor": 2
}
